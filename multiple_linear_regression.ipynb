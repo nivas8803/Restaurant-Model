{
  "nbformat": 4,
  "nbformat_minor": 0,
  "metadata": {
    "colab": {
      "provenance": [],
      "include_colab_link": true
    },
    "kernelspec": {
      "name": "python3",
      "display_name": "Python 3"
    }
  },
  "cells": [
    {
      "cell_type": "markdown",
      "metadata": {
        "id": "view-in-github",
        "colab_type": "text"
      },
      "source": [
        "<a href=\"https://colab.research.google.com/github/nivas8803/Restaurant-Model/blob/main/multiple_linear_regression.ipynb\" target=\"_parent\"><img src=\"https://colab.research.google.com/assets/colab-badge.svg\" alt=\"Open In Colab\"/></a>"
      ]
    },
    {
      "cell_type": "markdown",
      "metadata": {
        "id": "CazISR8X_HUG"
      },
      "source": [
        "# Multiple Linear Regression"
      ]
    },
    {
      "cell_type": "markdown",
      "metadata": {
        "id": "pOyqYHTk_Q57"
      },
      "source": [
        "## Importing the libraries"
      ]
    },
    {
      "cell_type": "code",
      "metadata": {
        "id": "T_YHJjnD_Tja"
      },
      "source": [
        "import numpy as np\n",
        "import matplotlib.pyplot as plt\n",
        "import pandas as pd"
      ],
      "execution_count": 1,
      "outputs": []
    },
    {
      "cell_type": "markdown",
      "metadata": {
        "id": "vgC61-ah_WIz"
      },
      "source": [
        "## Importing the dataset"
      ]
    },
    {
      "cell_type": "code",
      "metadata": {
        "id": "UrxyEKGn_ez7"
      },
      "source": [
        "dataset = pd.read_csv('restaurantData.csv')\n",
        "features = [\"Item Name\",\"Previous Stock Level\",\"Sales Quantity (Past 2 Weeks)\"]\n",
        "target = [\"Order Quantity\"]\n",
        "X = dataset[features]\n",
        "y = dataset[target]"
      ],
      "execution_count": 2,
      "outputs": []
    },
    {
      "cell_type": "code",
      "source": [
        "from sklearn.compose import ColumnTransformer\n",
        "from sklearn.preprocessing import OneHotEncoder\n",
        "ct = ColumnTransformer(transformers=[('encoder',OneHotEncoder(),[0])],remainder = 'passthrough')\n",
        "X= np.array(ct.fit_transform(X))"
      ],
      "metadata": {
        "id": "fyk4y0n18S8E"
      },
      "execution_count": 3,
      "outputs": []
    },
    {
      "cell_type": "markdown",
      "metadata": {
        "id": "WemVnqgeA70k"
      },
      "source": [
        "## Splitting the dataset into the Training set and Test set"
      ]
    },
    {
      "cell_type": "code",
      "metadata": {
        "id": "Kb_v_ae-A-20"
      },
      "source": [
        "from sklearn.model_selection import train_test_split\n",
        "X_train, X_test, y_train, y_test = train_test_split(X, y, test_size = 0.2, random_state = 0)"
      ],
      "execution_count": 4,
      "outputs": []
    },
    {
      "cell_type": "markdown",
      "metadata": {
        "id": "k-McZVsQBINc"
      },
      "source": [
        "## Training the Multiple Linear Regression model on the Training set"
      ]
    },
    {
      "cell_type": "code",
      "metadata": {
        "id": "ywPjx0L1BMiD",
        "colab": {
          "base_uri": "https://localhost:8080/",
          "height": 74
        },
        "outputId": "7945fc9e-0acd-492e-8274-12065a2c77b2"
      },
      "source": [
        "from sklearn.linear_model import LinearRegression\n",
        "regressor = LinearRegression()\n",
        "regressor.fit(X_train, y_train)"
      ],
      "execution_count": 5,
      "outputs": [
        {
          "output_type": "execute_result",
          "data": {
            "text/plain": [
              "LinearRegression()"
            ],
            "text/html": [
              "<style>#sk-container-id-1 {color: black;background-color: white;}#sk-container-id-1 pre{padding: 0;}#sk-container-id-1 div.sk-toggleable {background-color: white;}#sk-container-id-1 label.sk-toggleable__label {cursor: pointer;display: block;width: 100%;margin-bottom: 0;padding: 0.3em;box-sizing: border-box;text-align: center;}#sk-container-id-1 label.sk-toggleable__label-arrow:before {content: \"▸\";float: left;margin-right: 0.25em;color: #696969;}#sk-container-id-1 label.sk-toggleable__label-arrow:hover:before {color: black;}#sk-container-id-1 div.sk-estimator:hover label.sk-toggleable__label-arrow:before {color: black;}#sk-container-id-1 div.sk-toggleable__content {max-height: 0;max-width: 0;overflow: hidden;text-align: left;background-color: #f0f8ff;}#sk-container-id-1 div.sk-toggleable__content pre {margin: 0.2em;color: black;border-radius: 0.25em;background-color: #f0f8ff;}#sk-container-id-1 input.sk-toggleable__control:checked~div.sk-toggleable__content {max-height: 200px;max-width: 100%;overflow: auto;}#sk-container-id-1 input.sk-toggleable__control:checked~label.sk-toggleable__label-arrow:before {content: \"▾\";}#sk-container-id-1 div.sk-estimator input.sk-toggleable__control:checked~label.sk-toggleable__label {background-color: #d4ebff;}#sk-container-id-1 div.sk-label input.sk-toggleable__control:checked~label.sk-toggleable__label {background-color: #d4ebff;}#sk-container-id-1 input.sk-hidden--visually {border: 0;clip: rect(1px 1px 1px 1px);clip: rect(1px, 1px, 1px, 1px);height: 1px;margin: -1px;overflow: hidden;padding: 0;position: absolute;width: 1px;}#sk-container-id-1 div.sk-estimator {font-family: monospace;background-color: #f0f8ff;border: 1px dotted black;border-radius: 0.25em;box-sizing: border-box;margin-bottom: 0.5em;}#sk-container-id-1 div.sk-estimator:hover {background-color: #d4ebff;}#sk-container-id-1 div.sk-parallel-item::after {content: \"\";width: 100%;border-bottom: 1px solid gray;flex-grow: 1;}#sk-container-id-1 div.sk-label:hover label.sk-toggleable__label {background-color: #d4ebff;}#sk-container-id-1 div.sk-serial::before {content: \"\";position: absolute;border-left: 1px solid gray;box-sizing: border-box;top: 0;bottom: 0;left: 50%;z-index: 0;}#sk-container-id-1 div.sk-serial {display: flex;flex-direction: column;align-items: center;background-color: white;padding-right: 0.2em;padding-left: 0.2em;position: relative;}#sk-container-id-1 div.sk-item {position: relative;z-index: 1;}#sk-container-id-1 div.sk-parallel {display: flex;align-items: stretch;justify-content: center;background-color: white;position: relative;}#sk-container-id-1 div.sk-item::before, #sk-container-id-1 div.sk-parallel-item::before {content: \"\";position: absolute;border-left: 1px solid gray;box-sizing: border-box;top: 0;bottom: 0;left: 50%;z-index: -1;}#sk-container-id-1 div.sk-parallel-item {display: flex;flex-direction: column;z-index: 1;position: relative;background-color: white;}#sk-container-id-1 div.sk-parallel-item:first-child::after {align-self: flex-end;width: 50%;}#sk-container-id-1 div.sk-parallel-item:last-child::after {align-self: flex-start;width: 50%;}#sk-container-id-1 div.sk-parallel-item:only-child::after {width: 0;}#sk-container-id-1 div.sk-dashed-wrapped {border: 1px dashed gray;margin: 0 0.4em 0.5em 0.4em;box-sizing: border-box;padding-bottom: 0.4em;background-color: white;}#sk-container-id-1 div.sk-label label {font-family: monospace;font-weight: bold;display: inline-block;line-height: 1.2em;}#sk-container-id-1 div.sk-label-container {text-align: center;}#sk-container-id-1 div.sk-container {/* jupyter's `normalize.less` sets `[hidden] { display: none; }` but bootstrap.min.css set `[hidden] { display: none !important; }` so we also need the `!important` here to be able to override the default hidden behavior on the sphinx rendered scikit-learn.org. See: https://github.com/scikit-learn/scikit-learn/issues/21755 */display: inline-block !important;position: relative;}#sk-container-id-1 div.sk-text-repr-fallback {display: none;}</style><div id=\"sk-container-id-1\" class=\"sk-top-container\"><div class=\"sk-text-repr-fallback\"><pre>LinearRegression()</pre><b>In a Jupyter environment, please rerun this cell to show the HTML representation or trust the notebook. <br />On GitHub, the HTML representation is unable to render, please try loading this page with nbviewer.org.</b></div><div class=\"sk-container\" hidden><div class=\"sk-item\"><div class=\"sk-estimator sk-toggleable\"><input class=\"sk-toggleable__control sk-hidden--visually\" id=\"sk-estimator-id-1\" type=\"checkbox\" checked><label for=\"sk-estimator-id-1\" class=\"sk-toggleable__label sk-toggleable__label-arrow\">LinearRegression</label><div class=\"sk-toggleable__content\"><pre>LinearRegression()</pre></div></div></div></div></div>"
            ]
          },
          "metadata": {},
          "execution_count": 5
        }
      ]
    },
    {
      "cell_type": "markdown",
      "metadata": {
        "id": "xNkXL1YQBiBT"
      },
      "source": [
        "## Predicting the Test set results"
      ]
    },
    {
      "cell_type": "code",
      "metadata": {
        "id": "TQKmwvtdBkyb",
        "colab": {
          "base_uri": "https://localhost:8080/"
        },
        "outputId": "d8a9cdf1-3988-4141-cd7f-be49058fbc23"
      },
      "source": [
        "y_pred = regressor.predict(X_test)\n",
        "np.set_printoptions(precision=2)\n",
        "print(np.concatenate((y_pred.reshape(len(y_pred),1), y_test.values.reshape(len(y_test),1)),1))"
      ],
      "execution_count": 6,
      "outputs": [
        {
          "output_type": "stream",
          "name": "stdout",
          "text": [
            "[[21.92 21.  ]\n",
            " [25.97 25.  ]\n",
            " [26.13 25.  ]\n",
            " [25.53 25.  ]\n",
            " [25.58 26.  ]\n",
            " [26.23 25.  ]\n",
            " [26.35 25.  ]\n",
            " [21.84 21.  ]\n",
            " [25.55 30.  ]\n",
            " [26.02 25.  ]\n",
            " [22.68 25.  ]\n",
            " [25.97 30.  ]\n",
            " [25.53 20.  ]\n",
            " [23.33 25.  ]\n",
            " [26.07 25.  ]\n",
            " [25.46 25.  ]\n",
            " [26.28 25.  ]\n",
            " [21.86 30.  ]\n",
            " [21.84 20.  ]\n",
            " [24.81 25.  ]\n",
            " [26.23 25.  ]\n",
            " [26.13 25.  ]\n",
            " [26.07 25.  ]\n",
            " [24.15 21.  ]\n",
            " [26.07 26.  ]\n",
            " [26.13 25.  ]\n",
            " [22.21 20.  ]\n",
            " [22.65 30.  ]\n",
            " [25.6  25.  ]\n",
            " [26.13 30.  ]\n",
            " [26.18 25.  ]\n",
            " [26.19 30.  ]\n",
            " [25.42 25.  ]\n",
            " [25.56 25.  ]\n",
            " [26.13 25.  ]\n",
            " [21.9  22.  ]\n",
            " [26.64 25.  ]\n",
            " [25.46 25.  ]\n",
            " [26.23 25.  ]\n",
            " [25.65 25.  ]\n",
            " [26.23 25.  ]\n",
            " [25.97 25.  ]\n",
            " [26.02 25.  ]\n",
            " [26.85 29.  ]\n",
            " [26.23 26.  ]\n",
            " [26.37 25.  ]\n",
            " [26.42 25.  ]\n",
            " [26.2  30.  ]\n",
            " [25.53 21.  ]\n",
            " [26.17 30.  ]\n",
            " [25.6  25.  ]\n",
            " [26.88 25.  ]\n",
            " [26.02 25.  ]\n",
            " [21.88 20.  ]\n",
            " [25.48 25.  ]\n",
            " [26.13 25.  ]\n",
            " [21.97 21.  ]\n",
            " [26.16 20.  ]\n",
            " [21.84 20.  ]\n",
            " [25.4  21.  ]\n",
            " [26.02 25.  ]\n",
            " [22.58 25.  ]\n",
            " [26.83 30.  ]\n",
            " [21.91 21.  ]\n",
            " [25.5  25.  ]\n",
            " [24.76 21.  ]\n",
            " [22.58 30.  ]\n",
            " [26.07 30.  ]\n",
            " [25.56 21.  ]\n",
            " [25.47 26.  ]\n",
            " [25.62 25.  ]\n",
            " [26.42 25.  ]\n",
            " [26.35 30.  ]\n",
            " [26.28 21.  ]\n",
            " [26.07 25.  ]\n",
            " [23.13 21.  ]\n",
            " [21.9  20.  ]\n",
            " [26.02 25.  ]\n",
            " [26.21 25.  ]\n",
            " [27.05 30.  ]\n",
            " [21.89 20.  ]\n",
            " [26.37 25.  ]\n",
            " [23.41 21.  ]\n",
            " [21.81 20.  ]\n",
            " [26.28 25.  ]\n",
            " [25.6  25.  ]\n",
            " [26.93 25.  ]\n",
            " [26.18 25.  ]\n",
            " [26.02 25.  ]\n",
            " [25.92 25.  ]\n",
            " [21.97 21.  ]\n",
            " [25.53 25.  ]\n",
            " [26.4  21.  ]\n",
            " [26.07 25.  ]\n",
            " [26.13 25.  ]\n",
            " [25.47 25.  ]\n",
            " [23.46 25.  ]\n",
            " [26.23 26.  ]\n",
            " [25.56 21.  ]\n",
            " [26.4  25.  ]]\n"
          ]
        }
      ]
    },
    {
      "cell_type": "markdown",
      "metadata": {
        "id": "50DZZy0UyhLi"
      },
      "source": [
        "## Evaluating the Model Performance"
      ]
    },
    {
      "cell_type": "code",
      "metadata": {
        "id": "xPagAOKDywV4",
        "colab": {
          "base_uri": "https://localhost:8080/"
        },
        "outputId": "7bf39d87-c729-47e6-ac26-d1fb193366d4"
      },
      "source": [
        "from sklearn.metrics import r2_score\n",
        "r2_score(y_test, y_pred)"
      ],
      "execution_count": 7,
      "outputs": [
        {
          "output_type": "execute_result",
          "data": {
            "text/plain": [
              "0.17014317000464008"
            ]
          },
          "metadata": {},
          "execution_count": 7
        }
      ]
    }
  ]
}