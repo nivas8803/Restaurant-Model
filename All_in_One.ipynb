{
  "nbformat": 4,
  "nbformat_minor": 0,
  "metadata": {
    "colab": {
      "provenance": [],
      "authorship_tag": "ABX9TyPkmdMtiQmGkorAsCsuAMMd",
      "include_colab_link": true
    },
    "kernelspec": {
      "name": "python3",
      "display_name": "Python 3"
    },
    "language_info": {
      "name": "python"
    }
  },
  "cells": [
    {
      "cell_type": "markdown",
      "metadata": {
        "id": "view-in-github",
        "colab_type": "text"
      },
      "source": [
        "<a href=\"https://colab.research.google.com/github/nivas8803/Restaurant-Model/blob/main/All_in_One.ipynb\" target=\"_parent\"><img src=\"https://colab.research.google.com/assets/colab-badge.svg\" alt=\"Open In Colab\"/></a>"
      ]
    },
    {
      "cell_type": "code",
      "execution_count": 42,
      "metadata": {
        "colab": {
          "base_uri": "https://localhost:8080/"
        },
        "id": "2AnV3HTA-yGu",
        "outputId": "4bb49f96-247c-4cde-8e73-52b5a7eb1321"
      },
      "outputs": [
        {
          "output_type": "execute_result",
          "data": {
            "text/plain": [
              "0.4964883781941931"
            ]
          },
          "metadata": {},
          "execution_count": 42
        }
      ],
      "source": [
        "import pandas as pd\n",
        "import numpy as np\n",
        "\n",
        "from sklearn.model_selection import train_test_split\n",
        "from sklearn.linear_model import LinearRegression\n",
        "\n",
        "# Load data (replace with your actual data source)\n",
        "data = pd.read_csv(\"new data.csv\")\n",
        "\n",
        "# Define features and target\n",
        "features = [\"Item ID\", \"Previous Stock\", \"Sales (Past 2 Weeks)\"]  # Replace with actual names\n",
        "target = \"Order Quantity\"\n",
        "\n",
        "\n",
        "from sklearn.preprocessing import OneHotEncoder\n",
        "from sklearn.compose import ColumnTransformer\n",
        "\n",
        "ct = ColumnTransformer(transformers=[('encoder',OneHotEncoder(),[0])],remainder= 'passthrough')\n",
        "features = ct.fit_transform(data[features])\n",
        "\n",
        "# Convert NumPy array back to DataFrame with appropriate column names\n",
        "feature_names = ct.get_feature_names_out()\n",
        "features_df = pd.DataFrame(features, columns=feature_names)\n",
        "\n",
        "# Preprocess data (optional)\n",
        "# You might need to handle missing values, outliers, or data scaling\n",
        "\n",
        "# Split data into training and testing sets (80%/20% split)\n",
        "X_train, X_test, y_train, y_test = train_test_split(features_df, data[target], test_size=0.2, random_state=42)\n",
        "\n",
        "# Create a linear regression model\n",
        "model = LinearRegression()\n",
        "\n",
        "# Train the model on historical order data\n",
        "model.fit(X_train, y_train)\n",
        "\n",
        "# Make predictions on the testing set (optional)\n",
        "# This can help evaluate model performance on unseen data\n",
        "y_pred = model.predict(X_test)\n",
        "\n",
        "# Evaluate the model (optional)\n",
        "# Use metrics like mean squared error (MSE) or R-squared\n",
        "from sklearn.metrics import r2_score\n",
        "r2_score(y_test, y_pred)\n",
        "# from sklearn.metrics import mean_squared_error\n",
        "# mse = mean_squared_error(y_test, y_predicted)\n",
        "# print(\"Mean squared error:\", mse)\n",
        "\n",
        "\n",
        "\n",
        "\n"
      ]
    },
    {
      "cell_type": "markdown",
      "source": [
        "polynomial"
      ],
      "metadata": {
        "id": "_ZyZmEmBEUGz"
      }
    },
    {
      "cell_type": "code",
      "source": [
        "import pandas as pd\n",
        "import numpy as np\n",
        "\n",
        "from sklearn.model_selection import train_test_split\n",
        "from sklearn.linear_model import LinearRegression\n",
        "\n",
        "# Load data (replace with your actual data source)\n",
        "data = pd.read_csv(\"new data.csv\")\n",
        "\n",
        "# Define features and target\n",
        "features = [\"Item ID\", \"Previous Stock\", \"Sales (Past 2 Weeks)\"]  # Replace with actual names\n",
        "target = \"Order Quantity\"\n",
        "\n",
        "from sklearn.preprocessing import OneHotEncoder\n",
        "from sklearn.compose import ColumnTransformer\n",
        "\n",
        "ct = ColumnTransformer(transformers=[('encoder',OneHotEncoder(),[0])],remainder= 'passthrough')\n",
        "features = ct.fit_transform(data[features])\n",
        "\n",
        "# Convert NumPy array back to DataFrame with appropriate column names\n",
        "feature_names = ct.get_feature_names_out()\n",
        "features_df = pd.DataFrame(features, columns=feature_names)\n",
        "\n",
        "\n",
        "# Split data into training and testing sets (80%/20% split)\n",
        "X_train, X_test, y_train, y_test = train_test_split(features_df, data[target], test_size=0.2, random_state=42)\n",
        "\n",
        "from sklearn.preprocessing import PolynomialFeatures\n",
        "from sklearn.linear_model import LinearRegression\n",
        "poly_reg = PolynomialFeatures(degree = 1)\n",
        "X_poly = poly_reg.fit_transform(X_train)\n",
        "regressor = LinearRegression()\n",
        "regressor.fit(X_poly, y_train)\n",
        "\n",
        "y_pred = regressor.predict(poly_reg.transform(X_test))\n",
        "\n",
        "# Use metrics like mean squared error (MSE) or R-squared\n",
        "from sklearn.metrics import r2_score\n",
        "r2_score(y_test, y_pred)\n",
        "\n",
        "\n"
      ],
      "metadata": {
        "colab": {
          "base_uri": "https://localhost:8080/"
        },
        "id": "d5_OTQJ8EVwH",
        "outputId": "027a3ee1-f5c7-4198-9874-7af158e05af0"
      },
      "execution_count": 35,
      "outputs": [
        {
          "output_type": "execute_result",
          "data": {
            "text/plain": [
              "0.49648837819419256"
            ]
          },
          "metadata": {},
          "execution_count": 35
        }
      ]
    },
    {
      "cell_type": "markdown",
      "source": [
        "SVR"
      ],
      "metadata": {
        "id": "oxR7HYG6Q3NG"
      }
    },
    {
      "cell_type": "code",
      "source": [
        "import pandas as pd\n",
        "from sklearn.model_selection import train_test_split\n",
        "from sklearn.preprocessing import StandardScaler\n",
        "from sklearn.svm import SVR\n",
        "\n",
        "# Load data (replace with your actual data source)\n",
        "data = pd.read_csv(\"new data.csv\")\n",
        "\n",
        "# Define features and target\n",
        "features = [\"Item ID\", \"Previous Stock\", \"Sales (Past 2 Weeks)\"]  # Replace with actual names\n",
        "target = \"Order Quantity\"\n",
        "\n",
        "\n",
        "from sklearn.preprocessing import OneHotEncoder\n",
        "from sklearn.compose import ColumnTransformer\n",
        "\n",
        "ct = ColumnTransformer(transformers=[('encoder',OneHotEncoder(),[0])],remainder= 'passthrough')\n",
        "features = ct.fit_transform(data[features])\n",
        "\n",
        "# Convert NumPy array back to DataFrame with appropriate column names\n",
        "feature_names = ct.get_feature_names_out()\n",
        "features_df = pd.DataFrame(features, columns=feature_names)\n",
        "\n",
        "\n",
        "# Split data into training and testing sets (80%/20% split)\n",
        "X_train, X_test, y_train, y_test = train_test_split(features_df, data[target], test_size=0.2, random_state=42)\n",
        "\n",
        "# Scale features (optional, but recommended for SVR)\n",
        "scaler = StandardScaler()\n",
        "X_train_scaled = scaler.fit_transform(X_train)\n",
        "X_test_scaled = scaler.transform(X_test)\n",
        "\n",
        "# Create an SVR model with appropriate kernel (consider trying linear or RBF)\n",
        "model = SVR(kernel='rbf')  # Experiment with 'linear' kernel as well\n",
        "\n",
        "# Train the model on the scaled training data\n",
        "model.fit(X_train_scaled, y_train)\n",
        "\n",
        "# Make predictions on the testing set (optional)\n",
        "# This can help evaluate model performance on unseen data\n",
        "y_pred = model.predict(X_test_scaled)\n",
        "\n",
        "# Use metrics like mean squared error (MSE) or R-squared\n",
        "from sklearn.metrics import r2_score\n",
        "r2_score(y_test, y_pred)\n",
        "\n"
      ],
      "metadata": {
        "colab": {
          "base_uri": "https://localhost:8080/"
        },
        "id": "rasdOHKxQ4IH",
        "outputId": "b0254257-3952-4987-9918-8ab5199fb94c"
      },
      "execution_count": 31,
      "outputs": [
        {
          "output_type": "execute_result",
          "data": {
            "text/plain": [
              "0.24122746717103483"
            ]
          },
          "metadata": {},
          "execution_count": 31
        }
      ]
    }
  ]
}