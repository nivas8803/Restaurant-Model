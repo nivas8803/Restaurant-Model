{
  "nbformat": 4,
  "nbformat_minor": 0,
  "metadata": {
    "colab": {
      "provenance": [],
      "include_colab_link": true
    },
    "kernelspec": {
      "name": "python3",
      "display_name": "Python 3"
    }
  },
  "cells": [
    {
      "cell_type": "markdown",
      "metadata": {
        "id": "view-in-github",
        "colab_type": "text"
      },
      "source": [
        "<a href=\"https://colab.research.google.com/github/nivas8803/Restaurant-Model/blob/main/decision_tree_regression.ipynb\" target=\"_parent\"><img src=\"https://colab.research.google.com/assets/colab-badge.svg\" alt=\"Open In Colab\"/></a>"
      ]
    },
    {
      "cell_type": "markdown",
      "metadata": {
        "id": "r3cas2_1T98w"
      },
      "source": [
        "# Decision Tree Regression"
      ]
    },
    {
      "cell_type": "markdown",
      "metadata": {
        "id": "IODliia6U1xO"
      },
      "source": [
        "## Importing the libraries"
      ]
    },
    {
      "cell_type": "code",
      "metadata": {
        "id": "y98nA5UdU6Hf"
      },
      "source": [
        "import numpy as np\n",
        "import matplotlib.pyplot as plt\n",
        "import pandas as pd"
      ],
      "execution_count": 19,
      "outputs": []
    },
    {
      "cell_type": "markdown",
      "metadata": {
        "id": "jpjZ43YlU8eI"
      },
      "source": [
        "## Importing the dataset"
      ]
    },
    {
      "cell_type": "code",
      "metadata": {
        "id": "pLVaXoYVU_Uy"
      },
      "source": [
        "dataset = pd.read_csv('restaurantData.csv')\n",
        "features = [\"Item Name\",\"Previous Stock Level\",\"Sales Quantity (Past 2 Weeks)\"]\n",
        "target = [\"Order Quantity\"]\n",
        "X = dataset[features]\n",
        "y = dataset[target]"
      ],
      "execution_count": 20,
      "outputs": []
    },
    {
      "cell_type": "code",
      "source": [
        "from sklearn.compose import ColumnTransformer\n",
        "from sklearn.preprocessing import OneHotEncoder\n",
        "ct = ColumnTransformer(transformers=[('encoder',OneHotEncoder(),[0])],remainder = 'passthrough')\n",
        "X= np.array(ct.fit_transform(X))"
      ],
      "metadata": {
        "id": "SV168aI71qvg"
      },
      "execution_count": 21,
      "outputs": []
    },
    {
      "cell_type": "markdown",
      "metadata": {
        "id": "tPJXMyyUJbWn"
      },
      "source": [
        "## Splitting the dataset into the Training set and Test set"
      ]
    },
    {
      "cell_type": "code",
      "metadata": {
        "id": "rFOzpjaiJd5B"
      },
      "source": [
        "from sklearn.model_selection import train_test_split\n",
        "X_train, X_test, y_train, y_test = train_test_split(X, y, test_size = 0.2, random_state = 0)"
      ],
      "execution_count": 22,
      "outputs": []
    },
    {
      "cell_type": "markdown",
      "metadata": {
        "id": "g16qFkFQVC35"
      },
      "source": [
        "## Training the Decision Tree Regression model on the Training set"
      ]
    },
    {
      "cell_type": "code",
      "metadata": {
        "id": "SLDKyv1SVUqS",
        "colab": {
          "base_uri": "https://localhost:8080/",
          "height": 74
        },
        "outputId": "93b31f88-d2a1-47fe-c1fe-4e7d40bb181a"
      },
      "source": [
        "from sklearn.tree import DecisionTreeRegressor\n",
        "regressor = DecisionTreeRegressor(random_state = 0)\n",
        "regressor.fit(X_train, y_train)"
      ],
      "execution_count": 23,
      "outputs": [
        {
          "output_type": "execute_result",
          "data": {
            "text/plain": [
              "DecisionTreeRegressor(random_state=0)"
            ],
            "text/html": [
              "<style>#sk-container-id-3 {color: black;background-color: white;}#sk-container-id-3 pre{padding: 0;}#sk-container-id-3 div.sk-toggleable {background-color: white;}#sk-container-id-3 label.sk-toggleable__label {cursor: pointer;display: block;width: 100%;margin-bottom: 0;padding: 0.3em;box-sizing: border-box;text-align: center;}#sk-container-id-3 label.sk-toggleable__label-arrow:before {content: \"▸\";float: left;margin-right: 0.25em;color: #696969;}#sk-container-id-3 label.sk-toggleable__label-arrow:hover:before {color: black;}#sk-container-id-3 div.sk-estimator:hover label.sk-toggleable__label-arrow:before {color: black;}#sk-container-id-3 div.sk-toggleable__content {max-height: 0;max-width: 0;overflow: hidden;text-align: left;background-color: #f0f8ff;}#sk-container-id-3 div.sk-toggleable__content pre {margin: 0.2em;color: black;border-radius: 0.25em;background-color: #f0f8ff;}#sk-container-id-3 input.sk-toggleable__control:checked~div.sk-toggleable__content {max-height: 200px;max-width: 100%;overflow: auto;}#sk-container-id-3 input.sk-toggleable__control:checked~label.sk-toggleable__label-arrow:before {content: \"▾\";}#sk-container-id-3 div.sk-estimator input.sk-toggleable__control:checked~label.sk-toggleable__label {background-color: #d4ebff;}#sk-container-id-3 div.sk-label input.sk-toggleable__control:checked~label.sk-toggleable__label {background-color: #d4ebff;}#sk-container-id-3 input.sk-hidden--visually {border: 0;clip: rect(1px 1px 1px 1px);clip: rect(1px, 1px, 1px, 1px);height: 1px;margin: -1px;overflow: hidden;padding: 0;position: absolute;width: 1px;}#sk-container-id-3 div.sk-estimator {font-family: monospace;background-color: #f0f8ff;border: 1px dotted black;border-radius: 0.25em;box-sizing: border-box;margin-bottom: 0.5em;}#sk-container-id-3 div.sk-estimator:hover {background-color: #d4ebff;}#sk-container-id-3 div.sk-parallel-item::after {content: \"\";width: 100%;border-bottom: 1px solid gray;flex-grow: 1;}#sk-container-id-3 div.sk-label:hover label.sk-toggleable__label {background-color: #d4ebff;}#sk-container-id-3 div.sk-serial::before {content: \"\";position: absolute;border-left: 1px solid gray;box-sizing: border-box;top: 0;bottom: 0;left: 50%;z-index: 0;}#sk-container-id-3 div.sk-serial {display: flex;flex-direction: column;align-items: center;background-color: white;padding-right: 0.2em;padding-left: 0.2em;position: relative;}#sk-container-id-3 div.sk-item {position: relative;z-index: 1;}#sk-container-id-3 div.sk-parallel {display: flex;align-items: stretch;justify-content: center;background-color: white;position: relative;}#sk-container-id-3 div.sk-item::before, #sk-container-id-3 div.sk-parallel-item::before {content: \"\";position: absolute;border-left: 1px solid gray;box-sizing: border-box;top: 0;bottom: 0;left: 50%;z-index: -1;}#sk-container-id-3 div.sk-parallel-item {display: flex;flex-direction: column;z-index: 1;position: relative;background-color: white;}#sk-container-id-3 div.sk-parallel-item:first-child::after {align-self: flex-end;width: 50%;}#sk-container-id-3 div.sk-parallel-item:last-child::after {align-self: flex-start;width: 50%;}#sk-container-id-3 div.sk-parallel-item:only-child::after {width: 0;}#sk-container-id-3 div.sk-dashed-wrapped {border: 1px dashed gray;margin: 0 0.4em 0.5em 0.4em;box-sizing: border-box;padding-bottom: 0.4em;background-color: white;}#sk-container-id-3 div.sk-label label {font-family: monospace;font-weight: bold;display: inline-block;line-height: 1.2em;}#sk-container-id-3 div.sk-label-container {text-align: center;}#sk-container-id-3 div.sk-container {/* jupyter's `normalize.less` sets `[hidden] { display: none; }` but bootstrap.min.css set `[hidden] { display: none !important; }` so we also need the `!important` here to be able to override the default hidden behavior on the sphinx rendered scikit-learn.org. See: https://github.com/scikit-learn/scikit-learn/issues/21755 */display: inline-block !important;position: relative;}#sk-container-id-3 div.sk-text-repr-fallback {display: none;}</style><div id=\"sk-container-id-3\" class=\"sk-top-container\"><div class=\"sk-text-repr-fallback\"><pre>DecisionTreeRegressor(random_state=0)</pre><b>In a Jupyter environment, please rerun this cell to show the HTML representation or trust the notebook. <br />On GitHub, the HTML representation is unable to render, please try loading this page with nbviewer.org.</b></div><div class=\"sk-container\" hidden><div class=\"sk-item\"><div class=\"sk-estimator sk-toggleable\"><input class=\"sk-toggleable__control sk-hidden--visually\" id=\"sk-estimator-id-3\" type=\"checkbox\" checked><label for=\"sk-estimator-id-3\" class=\"sk-toggleable__label sk-toggleable__label-arrow\">DecisionTreeRegressor</label><div class=\"sk-toggleable__content\"><pre>DecisionTreeRegressor(random_state=0)</pre></div></div></div></div></div>"
            ]
          },
          "metadata": {},
          "execution_count": 23
        }
      ]
    },
    {
      "cell_type": "markdown",
      "metadata": {
        "id": "Nao9cdO6IgNb"
      },
      "source": [
        "## Predicting the Test set results"
      ]
    },
    {
      "cell_type": "code",
      "metadata": {
        "id": "EebHA3EOIkQK",
        "colab": {
          "base_uri": "https://localhost:8080/"
        },
        "outputId": "8947000c-d3d9-488f-b17b-22567d6faf00"
      },
      "source": [
        "y_pred = regressor.predict(X_test)\n",
        "np.set_printoptions(precision=2)\n",
        "print(np.concatenate((y_pred.reshape(len(y_pred),1), y_test.values.reshape(len(y_test),1)),1))"
      ],
      "execution_count": 24,
      "outputs": [
        {
          "output_type": "stream",
          "name": "stdout",
          "text": [
            "[[21.55 21.  ]\n",
            " [27.5  25.  ]\n",
            " [25.19 25.  ]\n",
            " [27.5  25.  ]\n",
            " [27.5  26.  ]\n",
            " [25.81 25.  ]\n",
            " [25.   25.  ]\n",
            " [24.   21.  ]\n",
            " [25.   30.  ]\n",
            " [25.64 25.  ]\n",
            " [25.   25.  ]\n",
            " [27.5  30.  ]\n",
            " [30.   20.  ]\n",
            " [30.   25.  ]\n",
            " [25.38 25.  ]\n",
            " [25.   25.  ]\n",
            " [25.5  25.  ]\n",
            " [22.33 30.  ]\n",
            " [24.   20.  ]\n",
            " [20.   25.  ]\n",
            " [25.81 25.  ]\n",
            " [25.19 25.  ]\n",
            " [25.38 25.  ]\n",
            " [21.   21.  ]\n",
            " [25.38 26.  ]\n",
            " [25.19 25.  ]\n",
            " [22.   20.  ]\n",
            " [25.   30.  ]\n",
            " [24.   25.  ]\n",
            " [25.19 30.  ]\n",
            " [26.2  25.  ]\n",
            " [30.   30.  ]\n",
            " [22.33 25.  ]\n",
            " [25.12 25.  ]\n",
            " [25.19 25.  ]\n",
            " [23.71 22.  ]\n",
            " [21.   25.  ]\n",
            " [25.   25.  ]\n",
            " [25.81 25.  ]\n",
            " [25.   25.  ]\n",
            " [25.81 25.  ]\n",
            " [27.5  25.  ]\n",
            " [25.64 25.  ]\n",
            " [25.   29.  ]\n",
            " [25.81 26.  ]\n",
            " [25.   25.  ]\n",
            " [25.   25.  ]\n",
            " [30.   30.  ]\n",
            " [25.   21.  ]\n",
            " [25.   30.  ]\n",
            " [24.   25.  ]\n",
            " [25.   25.  ]\n",
            " [25.64 25.  ]\n",
            " [21.   20.  ]\n",
            " [25.   25.  ]\n",
            " [25.19 25.  ]\n",
            " [20.65 21.  ]\n",
            " [27.5  20.  ]\n",
            " [24.   20.  ]\n",
            " [30.   21.  ]\n",
            " [25.64 25.  ]\n",
            " [25.   25.  ]\n",
            " [25.   30.  ]\n",
            " [25.   21.  ]\n",
            " [25.   25.  ]\n",
            " [30.   21.  ]\n",
            " [25.   30.  ]\n",
            " [25.38 30.  ]\n",
            " [22.5  21.  ]\n",
            " [26.   26.  ]\n",
            " [25.33 25.  ]\n",
            " [25.   25.  ]\n",
            " [30.   30.  ]\n",
            " [30.   21.  ]\n",
            " [25.38 25.  ]\n",
            " [25.   21.  ]\n",
            " [23.71 20.  ]\n",
            " [25.64 25.  ]\n",
            " [26.2  25.  ]\n",
            " [30.   30.  ]\n",
            " [25.   20.  ]\n",
            " [25.   25.  ]\n",
            " [22.   21.  ]\n",
            " [30.   20.  ]\n",
            " [30.   25.  ]\n",
            " [24.   25.  ]\n",
            " [25.   25.  ]\n",
            " [26.2  25.  ]\n",
            " [25.64 25.  ]\n",
            " [25.   25.  ]\n",
            " [20.65 21.  ]\n",
            " [25.33 25.  ]\n",
            " [30.   21.  ]\n",
            " [25.38 25.  ]\n",
            " [25.19 25.  ]\n",
            " [25.   25.  ]\n",
            " [22.   25.  ]\n",
            " [30.   26.  ]\n",
            " [25.   21.  ]\n",
            " [25.   25.  ]]\n"
          ]
        }
      ]
    },
    {
      "cell_type": "markdown",
      "metadata": {
        "id": "V4nELFnnIod1"
      },
      "source": [
        "## Evaluating the Model Performance"
      ]
    },
    {
      "cell_type": "code",
      "metadata": {
        "id": "_G2QS1UoIsTZ",
        "colab": {
          "base_uri": "https://localhost:8080/"
        },
        "outputId": "d4137784-4a62-4d36-cc68-a9838fcae0cd"
      },
      "source": [
        "from sklearn.metrics import r2_score\n",
        "r2_score(y_test, y_pred)"
      ],
      "execution_count": 25,
      "outputs": [
        {
          "output_type": "execute_result",
          "data": {
            "text/plain": [
              "-0.41574430720391686"
            ]
          },
          "metadata": {},
          "execution_count": 25
        }
      ]
    }
  ]
}